{
 "cells": [
  {
   "cell_type": "code",
   "execution_count": 4,
   "metadata": {},
   "outputs": [],
   "source": [
    "import logging\n",
    "import sys\n",
    "import yaml\n",
    "import os\n",
    "import pprint\n",
    "from importlib.machinery import SourceFileLoader\n",
    "yaml_filepath = \"./experiments/config.yml\""
   ]
  },
  {
   "cell_type": "code",
   "execution_count": 7,
   "metadata": {},
   "outputs": [],
   "source": [
    "def main(yaml_filepath):\n",
    "    \"\"\"Example.\"\"\"\n",
    "    cfg = load_cfg(yaml_filepath)\n",
    "\n",
    "    # Print the configuration - just to make sure that you loaded what you\n",
    "    # wanted to load\n",
    "    pp = pprint.PrettyPrinter(indent=4)\n",
    "    pp.pprint(cfg)\n",
    "\n",
    "    # Here is an example how you load modules of which you put the path in the\n",
    "    # configuration. Use this for configuring the model you use, for dataset\n",
    "    # loading, ...\n",
    "    dpath = cfg[\"dataset\"][\"script_path\"]\n",
    "    print(dpath)\n",
    "    sys.path.insert(1, os.path.dirname(dpath))\n",
    "    print(cfg[\"dataset\"][\"script_path\"])\n",
    "    data = SourceFileLoader('data', dpath).load_module()\n",
    "    #data = imp.load_source(\"data\", cfg[\"dataset\"][\"script_path\"])\n",
    "\n",
    "def load_cfg(yaml_filepath):\n",
    "    \"\"\"\n",
    "    Load a YAML configuration file.    Parameters\n",
    "    ----------\n",
    "    yaml_filepath : str    Returns\n",
    "    -------\n",
    "    cfg : dict\n",
    "    \"\"\"\n",
    "    # Read YAML experiment definition file\n",
    "    with open(yaml_filepath, 'r') as stream:\n",
    "        cfg = yaml.load(stream)\n",
    "    cfg = make_paths_absolute(os.path.dirname(yaml_filepath), cfg)\n",
    "    return cfg\n",
    "\n",
    "def make_paths_absolute(dir_, cfg):\n",
    "    \"\"\"\n",
    "    Make all values for keys ending with `_path` absolute to dir_.    Parameters\n",
    "    ----------\n",
    "    dir_ : str\n",
    "    cfg : dict    Returns\n",
    "    -------\n",
    "    cfg : dict\n",
    "    \"\"\"\n",
    "    for key in cfg.keys():\n",
    "        if key.endswith(\"_path\"):\n",
    "            cfg[key] = os.path.join(dir_, cfg[key])\n",
    "            cfg[key] = os.path.abspath(cfg[key])\n",
    "            if not os.path.isfile(cfg[key]):\n",
    "                logging.error(\"%s does not exist.\", cfg[key])\n",
    "        if type(cfg[key]) is dict:\n",
    "            cfg[key] = make_paths_absolute(dir_, cfg[key])\n",
    "    return cfg"
   ]
  },
  {
   "cell_type": "code",
   "execution_count": 8,
   "metadata": {},
   "outputs": [
    {
     "name": "stderr",
     "output_type": "stream",
     "text": [
      "<ipython-input-7-a4a00d3dee14>:30: YAMLLoadWarning: calling yaml.load() without Loader=... is deprecated, as the default Loader is unsafe. Please read https://msg.pyyaml.org/load for full details.\n",
      "  cfg = yaml.load(stream)\n",
      "ERROR:root:/Users/thomasnylund/BSSoV/BSSoV/artifacts/train does not exist.\n"
     ]
    },
    {
     "name": "stdout",
     "output_type": "stream",
     "text": [
      "{   'dataset': {   'script_path': '/Users/thomasnylund/BSSoV/BSSoV/datasets/datasets.py'},\n",
      "    'evaluate': {   'augmentation_factor': 0,\n",
      "                    'batch_size': 0,\n",
      "                    'data_augmentation': {   'channel_shift_range': 0,\n",
      "                                             'featurewise_center': False,\n",
      "                                             'height_shift_range': 0.0,\n",
      "                                             'horizontal_flip': True,\n",
      "                                             'rotation_range': 0,\n",
      "                                             'samplewise_center': False,\n",
      "                                             'samplewise_std_normalization': False,\n",
      "                                             'shear_range': 0,\n",
      "                                             'vertical_flip': False,\n",
      "                                             'width_shift_range': 0.0,\n",
      "                                             'zca_whitening': False,\n",
      "                                             'zoom_range': 0}},\n",
      "    'model': {   'script_path': '/Users/thomasnylund/BSSoV/BSSoV/models/example.py'},\n",
      "    'optimizer': {   'initial_lr': 0.0,\n",
      "                     'script_path': '/Users/thomasnylund/BSSoV/BSSoV/optimizers/example.py'},\n",
      "    'train': {   'artifacts_path': '/Users/thomasnylund/BSSoV/BSSoV/artifacts/train',\n",
      "                 'batch_size': 0,\n",
      "                 'data_augmentation': {   'channel_shift_range': 0,\n",
      "                                          'featurewise_center': False,\n",
      "                                          'height_shift_range': 0.0,\n",
      "                                          'horizontal_flip': True,\n",
      "                                          'rotation_range': 0,\n",
      "                                          'samplewise_center': False,\n",
      "                                          'samplewise_std_normalization': False,\n",
      "                                          'shear_range': 0,\n",
      "                                          'vertical_flip': False,\n",
      "                                          'width_shift_range': 0.0,\n",
      "                                          'zca_whitening': False,\n",
      "                                          'zoom_range': 0},\n",
      "                 'epochs': 0,\n",
      "                 'script_path': '/Users/thomasnylund/BSSoV/BSSoV/train/example.py'}}\n",
      "/Users/thomasnylund/BSSoV/BSSoV/datasets/datasets.py\n",
      "/Users/thomasnylund/BSSoV/BSSoV/datasets/datasets.py\n"
     ]
    }
   ],
   "source": [
    "main(yaml_filepath)"
   ]
  },
  {
   "cell_type": "code",
   "execution_count": null,
   "metadata": {},
   "outputs": [],
   "source": []
  }
 ],
 "metadata": {
  "kernelspec": {
   "display_name": "Python 3",
   "language": "python",
   "name": "python3"
  },
  "language_info": {
   "codemirror_mode": {
    "name": "ipython",
    "version": 3
   },
   "file_extension": ".py",
   "mimetype": "text/x-python",
   "name": "python",
   "nbconvert_exporter": "python",
   "pygments_lexer": "ipython3",
   "version": "3.8.5"
  }
 },
 "nbformat": 4,
 "nbformat_minor": 4
}
